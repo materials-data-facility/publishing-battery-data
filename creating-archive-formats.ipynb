{
 "cells": [
  {
   "cell_type": "markdown",
   "id": "bb062297-7821-4df2-8474-8fad271e7c30",
   "metadata": {},
   "source": [
    "# Creating Archive-Ready Metadata\n",
    "The raw data is split into a few different files:\n",
    "- [A mapping of tests to filenames](./raw-data/Summary_of_CAMP_Cells.xlsx)\n",
    "- [A mapping of tests to battery design](./raw-data/Summary_of_builds_JK.xlsx)\n",
    "- The actual raw data from the machines in MACCOR format"
   ]
  },
  {
   "cell_type": "code",
   "execution_count": 1,
   "id": "771937d3-8e99-453c-a0b9-36fede9eb29f",
   "metadata": {},
   "outputs": [
    {
     "name": "stderr",
     "output_type": "stream",
     "text": [
      "/home/lward/miniconda3/envs/batdata/lib/python3.10/site-packages/tqdm/auto.py:22: TqdmWarning: IProgress not found. Please update jupyter and ipywidgets. See https://ipywidgets.readthedocs.io/en/stable/user_install.html\n",
      "  from .autonotebook import tqdm as notebook_tqdm\n"
     ]
    }
   ],
   "source": [
    "from batdata.extractors.maccor import MACCORExtractor\n",
    "from batdata.data import BatteryDataset\n",
    "from shutil import rmtree\n",
    "from tqdm.auto import tqdm\n",
    "from pathlib import Path\n",
    "import pandas as pd"
   ]
  },
  {
   "cell_type": "markdown",
   "id": "9bc16bdc-e822-4922-9cce-2b76fd3ac5a5",
   "metadata": {},
   "source": [
    "Configuration"
   ]
  },
  {
   "cell_type": "code",
   "execution_count": 2,
   "id": "39741c3c-c44c-4771-ac5c-04ad44b03909",
   "metadata": {},
   "outputs": [],
   "source": [
    "data_path = Path('./raw-data/CAMP_data/')\n",
    "h5_path = Path('./data/')"
   ]
  },
  {
   "cell_type": "markdown",
   "id": "d324787c-c387-4dcf-aef0-63c2e3058e7d",
   "metadata": {},
   "source": [
    "## Load in the Mapping Spreadsheets\n",
    "These spreadsheets allow us to understand the content of the in our MACCOR files"
   ]
  },
  {
   "cell_type": "code",
   "execution_count": 3,
   "id": "ab1aa3b1-9c90-4546-8472-81c78f116c3f",
   "metadata": {},
   "outputs": [
    {
     "data": {
      "text/html": [
       "<div>\n",
       "<style scoped>\n",
       "    .dataframe tbody tr th:only-of-type {\n",
       "        vertical-align: middle;\n",
       "    }\n",
       "\n",
       "    .dataframe tbody tr th {\n",
       "        vertical-align: top;\n",
       "    }\n",
       "\n",
       "    .dataframe thead th {\n",
       "        text-align: right;\n",
       "    }\n",
       "</style>\n",
       "<table border=\"1\" class=\"dataframe\">\n",
       "  <thead>\n",
       "    <tr style=\"text-align: right;\">\n",
       "      <th></th>\n",
       "      <th>Unnamed: 0</th>\n",
       "      <th>File Name</th>\n",
       "      <th>Owner</th>\n",
       "      <th>Batch</th>\n",
       "      <th>Cell Number</th>\n",
       "      <th>Cell Test</th>\n",
       "      <th>Start Time</th>\n",
       "      <th>Initial Cycle Number</th>\n",
       "      <th>Last Cycle</th>\n",
       "      <th>Test Time</th>\n",
       "      <th>Max Capacity (Ah)</th>\n",
       "      <th>Max Energy</th>\n",
       "      <th>Max Current (A)</th>\n",
       "      <th>Min Voltage</th>\n",
       "      <th>Max Voltage</th>\n",
       "      <th>Date of Test</th>\n",
       "      <th>Path</th>\n",
       "      <th>File Comments</th>\n",
       "      <th>Procedure</th>\n",
       "      <th>Number of Cycles in file</th>\n",
       "    </tr>\n",
       "  </thead>\n",
       "  <tbody>\n",
       "    <tr>\n",
       "      <th>0</th>\n",
       "      <td>0</td>\n",
       "      <td>ARGONNE #20_SET-LN3024-104-1a.001</td>\n",
       "      <td>SET</td>\n",
       "      <td>LN3024_104</td>\n",
       "      <td>1</td>\n",
       "      <td>1a</td>\n",
       "      <td>03/31/2016 16:05:31</td>\n",
       "      <td>0.0</td>\n",
       "      <td>0.0</td>\n",
       "      <td>1.1667</td>\n",
       "      <td>0.000000</td>\n",
       "      <td>0.00000</td>\n",
       "      <td>0.000000</td>\n",
       "      <td>3.305715</td>\n",
       "      <td>3.306783</td>\n",
       "      <td>\\t03/31/2016\\t</td>\n",
       "      <td>\\tC:\\Data\\MIMS\\Backup\\ARGONNE #20\\SET-LN3024-1...</td>\n",
       "      <td>SET-LN3024-104  Targray NCM811 [LN2086-32-4] ...</td>\n",
       "      <td>ABRHV-NCM523-Form-4p1.000NCM 523  Formation T...</td>\n",
       "      <td>0.0</td>\n",
       "    </tr>\n",
       "    <tr>\n",
       "      <th>1</th>\n",
       "      <td>1</td>\n",
       "      <td>ARGONNE #20_SET-LN3024-104-1aa.001</td>\n",
       "      <td>SET</td>\n",
       "      <td>LN3024_104</td>\n",
       "      <td>1</td>\n",
       "      <td>1aa</td>\n",
       "      <td>03/31/2016 16:07:53</td>\n",
       "      <td>0.0</td>\n",
       "      <td>3.0</td>\n",
       "      <td>4942.6788</td>\n",
       "      <td>0.003038</td>\n",
       "      <td>0.01179</td>\n",
       "      <td>0.000242</td>\n",
       "      <td>2.999924</td>\n",
       "      <td>4.300908</td>\n",
       "      <td>\\t03/31/2016\\t</td>\n",
       "      <td>\\tC:\\Data\\MIMS\\Backup\\ARGONNE #20\\SET-LN3024-1...</td>\n",
       "      <td>SET-LN3024-104  Targray NCM811 [LN2086-32-4] ...</td>\n",
       "      <td>ABRHV-NCM523-Form-4p3.000NCM 523  Formation T...</td>\n",
       "      <td>3.0</td>\n",
       "    </tr>\n",
       "  </tbody>\n",
       "</table>\n",
       "</div>"
      ],
      "text/plain": [
       "   Unnamed: 0                           File Name Owner       Batch  \\\n",
       "0           0   ARGONNE #20_SET-LN3024-104-1a.001   SET  LN3024_104   \n",
       "1           1  ARGONNE #20_SET-LN3024-104-1aa.001   SET  LN3024_104   \n",
       "\n",
       "  Cell Number Cell Test           Start Time  Initial Cycle Number  \\\n",
       "0           1        1a  03/31/2016 16:05:31                   0.0   \n",
       "1           1       1aa  03/31/2016 16:07:53                   0.0   \n",
       "\n",
       "   Last Cycle  Test Time  Max Capacity (Ah)  Max Energy  Max Current (A)  \\\n",
       "0         0.0     1.1667           0.000000     0.00000         0.000000   \n",
       "1         3.0  4942.6788           0.003038     0.01179         0.000242   \n",
       "\n",
       "   Min Voltage  Max Voltage     Date of Test  \\\n",
       "0     3.305715     3.306783  \\t03/31/2016\\t    \n",
       "1     2.999924     4.300908  \\t03/31/2016\\t    \n",
       "\n",
       "                                                Path  \\\n",
       "0  \\tC:\\Data\\MIMS\\Backup\\ARGONNE #20\\SET-LN3024-1...   \n",
       "1  \\tC:\\Data\\MIMS\\Backup\\ARGONNE #20\\SET-LN3024-1...   \n",
       "\n",
       "                                       File Comments  \\\n",
       "0   SET-LN3024-104  Targray NCM811 [LN2086-32-4] ...   \n",
       "1   SET-LN3024-104  Targray NCM811 [LN2086-32-4] ...   \n",
       "\n",
       "                                           Procedure  Number of Cycles in file  \n",
       "0   ABRHV-NCM523-Form-4p1.000NCM 523  Formation T...                       0.0  \n",
       "1   ABRHV-NCM523-Form-4p3.000NCM 523  Formation T...                       3.0  "
      ]
     },
     "execution_count": 3,
     "metadata": {},
     "output_type": "execute_result"
    }
   ],
   "source": [
    "test_descriptions = pd.read_excel('raw-data/Summary_of_CAMP_Cells.xlsx')\n",
    "test_descriptions.head(2)"
   ]
  },
  {
   "cell_type": "code",
   "execution_count": 4,
   "id": "3f08bc60-33c2-4715-b46c-e8bbe882b353",
   "metadata": {},
   "outputs": [
    {
     "data": {
      "text/html": [
       "<div>\n",
       "<style scoped>\n",
       "    .dataframe tbody tr th:only-of-type {\n",
       "        vertical-align: middle;\n",
       "    }\n",
       "\n",
       "    .dataframe tbody tr th {\n",
       "        vertical-align: top;\n",
       "    }\n",
       "\n",
       "    .dataframe thead th {\n",
       "        text-align: right;\n",
       "    }\n",
       "</style>\n",
       "<table border=\"1\" class=\"dataframe\">\n",
       "  <thead>\n",
       "    <tr style=\"text-align: right;\">\n",
       "      <th></th>\n",
       "      <th>build</th>\n",
       "      <th>anode</th>\n",
       "      <th>cathode</th>\n",
       "      <th>description</th>\n",
       "      <th>electrolyte</th>\n",
       "      <th>electrolyte_additive</th>\n",
       "      <th>total_cathode_area (cm2)</th>\n",
       "      <th>number_layers</th>\n",
       "      <th>anode_supplier</th>\n",
       "      <th>anode_mat_name</th>\n",
       "      <th>...</th>\n",
       "      <th>cathode_supplier.1</th>\n",
       "      <th>target_capacity (Ah)</th>\n",
       "      <th>anode_thickness (um)</th>\n",
       "      <th>anode_loading (mg/cm2)</th>\n",
       "      <th>anode_porosity</th>\n",
       "      <th>cathode_thickness (um)</th>\n",
       "      <th>cathode_loading (mg/cm2)</th>\n",
       "      <th>cathode_porosity</th>\n",
       "      <th>temperature (C)</th>\n",
       "      <th>Notes</th>\n",
       "    </tr>\n",
       "  </thead>\n",
       "  <tbody>\n",
       "    <tr>\n",
       "      <th>0</th>\n",
       "      <td>B1</td>\n",
       "      <td>C</td>\n",
       "      <td>HE5050</td>\n",
       "      <td>A12 vs. Toda HE5050</td>\n",
       "      <td>Gen 2</td>\n",
       "      <td>NONE</td>\n",
       "      <td>NaN</td>\n",
       "      <td>NaN</td>\n",
       "      <td>Conoco-Phillips</td>\n",
       "      <td>A12</td>\n",
       "      <td>...</td>\n",
       "      <td>TodaHE5050</td>\n",
       "      <td>0.375</td>\n",
       "      <td>86</td>\n",
       "      <td>5.75</td>\n",
       "      <td>35</td>\n",
       "      <td>68</td>\n",
       "      <td>14.5</td>\n",
       "      <td>42</td>\n",
       "      <td>30</td>\n",
       "      <td>NaN</td>\n",
       "    </tr>\n",
       "    <tr>\n",
       "      <th>1</th>\n",
       "      <td>B1A</td>\n",
       "      <td>C</td>\n",
       "      <td>HE5050</td>\n",
       "      <td>A12 vs. Toda HE5050</td>\n",
       "      <td>Gen 2</td>\n",
       "      <td>NONE</td>\n",
       "      <td>NaN</td>\n",
       "      <td>NaN</td>\n",
       "      <td>Conoco-Phillips</td>\n",
       "      <td>A12</td>\n",
       "      <td>...</td>\n",
       "      <td>TodaHE5050</td>\n",
       "      <td>0.375</td>\n",
       "      <td>86</td>\n",
       "      <td>5.75</td>\n",
       "      <td>35</td>\n",
       "      <td>68</td>\n",
       "      <td>14.5</td>\n",
       "      <td>42</td>\n",
       "      <td>30</td>\n",
       "      <td>NaN</td>\n",
       "    </tr>\n",
       "  </tbody>\n",
       "</table>\n",
       "<p>2 rows × 21 columns</p>\n",
       "</div>"
      ],
      "text/plain": [
       "  build anode cathode          description electrolyte electrolyte_additive  \\\n",
       "0    B1     C  HE5050  A12 vs. Toda HE5050       Gen 2                 NONE   \n",
       "1   B1A     C  HE5050  A12 vs. Toda HE5050       Gen 2                 NONE   \n",
       "\n",
       "  total_cathode_area (cm2) number_layers   anode_supplier anode_mat_name  ...  \\\n",
       "0                      NaN           NaN  Conoco-Phillips            A12  ...   \n",
       "1                      NaN           NaN  Conoco-Phillips            A12  ...   \n",
       "\n",
       "  cathode_supplier.1 target_capacity (Ah) anode_thickness (um)  \\\n",
       "0         TodaHE5050                0.375                   86   \n",
       "1         TodaHE5050                0.375                   86   \n",
       "\n",
       "  anode_loading (mg/cm2) anode_porosity cathode_thickness (um)  \\\n",
       "0                   5.75             35                     68   \n",
       "1                   5.75             35                     68   \n",
       "\n",
       "  cathode_loading (mg/cm2) cathode_porosity temperature (C) Notes  \n",
       "0                     14.5               42              30   NaN  \n",
       "1                     14.5               42              30   NaN  \n",
       "\n",
       "[2 rows x 21 columns]"
      ]
     },
     "execution_count": 4,
     "metadata": {},
     "output_type": "execute_result"
    }
   ],
   "source": [
    "cell_descriptions = pd.read_excel('raw-data/Summary_of_builds_JK.xlsx')\n",
    "cell_descriptions.head(2)"
   ]
  },
  {
   "cell_type": "markdown",
   "id": "bb0f7ec4-8be7-49e8-842a-83504794042f",
   "metadata": {},
   "source": [
    "### Filter down to best-documented cells\n",
    "Get only the test descriptions where we have the \"Batch\" described in the cell descriptions"
   ]
  },
  {
   "cell_type": "code",
   "execution_count": 5,
   "id": "64e14d71-9ddf-4bf1-bb58-bd40c8051b6c",
   "metadata": {},
   "outputs": [],
   "source": [
    "is_documented = test_descriptions['Batch'].apply(lambda x: x in set(cell_descriptions['build']))"
   ]
  },
  {
   "cell_type": "code",
   "execution_count": 6,
   "id": "da34a048-fd2b-4a35-b866-46cd3470069e",
   "metadata": {},
   "outputs": [
    {
     "name": "stdout",
     "output_type": "stream",
     "text": [
      "Found descriptions for 3409/8618 tests\n"
     ]
    }
   ],
   "source": [
    "print(f'Found descriptions for {is_documented.sum()}/{len(is_documented)} tests')"
   ]
  },
  {
   "cell_type": "code",
   "execution_count": 7,
   "id": "b1ca600b-3449-4f3a-9822-f3c8dfc70612",
   "metadata": {},
   "outputs": [],
   "source": [
    "test_descriptions = test_descriptions[is_documented]"
   ]
  },
  {
   "cell_type": "code",
   "execution_count": 8,
   "id": "edbb3383-a6b0-4cbc-9ad1-4b4646d9267d",
   "metadata": {},
   "outputs": [
    {
     "name": "stdout",
     "output_type": "stream",
     "text": [
      "There is a total of 611 unique cells\n"
     ]
    }
   ],
   "source": [
    "print(f'There is a total of {len(test_descriptions[[\"Batch\", \"Cell Number\"]].value_counts())} unique cells')"
   ]
  },
  {
   "cell_type": "markdown",
   "id": "a00fc597-4187-443e-9629-6cbabb54519b",
   "metadata": {},
   "source": [
    "## Load in an Example Test\n",
    "Tests are stored in MACCOR format. Let's load one in to see how the data looks"
   ]
  },
  {
   "cell_type": "code",
   "execution_count": 9,
   "id": "f6a4c1c3-ee46-435f-929f-dcaadd941759",
   "metadata": {},
   "outputs": [],
   "source": [
    "extractor = MACCORExtractor()"
   ]
  },
  {
   "cell_type": "code",
   "execution_count": 10,
   "id": "146a2fb6-81ba-4db9-8958-1d3fcb9eabfc",
   "metadata": {},
   "outputs": [],
   "source": [
    "data = extractor.generate_dataframe('raw-data/example/ARGONNE_11_CFF-B13A-P9b.033')"
   ]
  },
  {
   "cell_type": "markdown",
   "id": "9d2966ef-ce9b-420f-86d0-320de8295ac2",
   "metadata": {},
   "source": [
    "## Process all known cells\n",
    "Loop through everything and save it into HDF5 format"
   ]
  },
  {
   "cell_type": "code",
   "execution_count": 11,
   "id": "47cf5cb0-f107-45c9-87f2-f1433efd1242",
   "metadata": {},
   "outputs": [],
   "source": [
    "if h5_path.is_dir():\n",
    "    rmtree(h5_path)\n",
    "h5_path.mkdir()"
   ]
  },
  {
   "cell_type": "code",
   "execution_count": 12,
   "id": "4fdfdbc8-6be0-49e6-b774-f588c422840b",
   "metadata": {},
   "outputs": [
    {
     "name": "stderr",
     "output_type": "stream",
     "text": [
      " 19%|███████████████████████████████▍                                                                                                                                       | 115/611 [01:17<00:46, 10.66it/s]/home/lward/Work/ASOH/battery-data-toolkit/batdata/postprocess/__init__.py:76: RuntimeWarning: divide by zero encountered in divide\n",
      "  a = dI / dt\n",
      "/home/lward/Work/ASOH/battery-data-toolkit/batdata/postprocess/__init__.py:77: RuntimeWarning: invalid value encountered in divide\n",
      "  b = dV / dt\n",
      "/home/lward/Work/ASOH/battery-data-toolkit/batdata/postprocess/__init__.py:78: RuntimeWarning: invalid value encountered in divide\n",
      "  a = abs(a / max(abs(a)))\n",
      " 19%|████████████████████████████████▎                                                                                                                                      | 118/611 [01:32<03:41,  2.23it/s]/home/lward/Work/ASOH/battery-data-toolkit/batdata/postprocess/__init__.py:76: RuntimeWarning: divide by zero encountered in divide\n",
      "  a = dI / dt\n",
      "/home/lward/Work/ASOH/battery-data-toolkit/batdata/postprocess/__init__.py:77: RuntimeWarning: invalid value encountered in divide\n",
      "  b = dV / dt\n",
      "/home/lward/Work/ASOH/battery-data-toolkit/batdata/postprocess/__init__.py:78: RuntimeWarning: invalid value encountered in divide\n",
      "  a = abs(a / max(abs(a)))\n",
      "100%|███████████████████████████████████████████████████████████████████████████████████████████████████████████████████████████████████████████████████████████████████████| 611/611 [09:57<00:00,  1.02it/s]"
     ]
    },
    {
     "name": "stdout",
     "output_type": "stream",
     "text": [
      "Succeeded in parsing 310\n"
     ]
    },
    {
     "name": "stderr",
     "output_type": "stream",
     "text": [
      "\n"
     ]
    }
   ],
   "source": [
    "success_count = 0\n",
    "for (batch_id, cell_id), group in tqdm(test_descriptions.groupby(['Batch', 'Cell Number'])):\n",
    "    # Get the cells\n",
    "    files = group['File Name'].apply(lambda x: data_path / x).tolist()\n",
    "    \n",
    "    # Parse them\n",
    "    try:\n",
    "        data = extractor.parse_to_dataframe(files)\n",
    "    except Exception as exc:\n",
    "        #print(batch_id, cell_id, files[0], exc)\n",
    "        continue\n",
    "    \n",
    "    # Save it to the HDF5 format\n",
    "    name = f'batch_{batch_id}_cell_{cell_id}.h5'\n",
    "    data.to_batdata_hdf(h5_path / name, complevel=9)\n",
    "    success_count += 1\n",
    "print(f'Succeeded in parsing {success_count} cells')"
   ]
  },
  {
   "cell_type": "code",
   "execution_count": null,
   "id": "8bcc8d86-fdf4-46ef-9e4e-7a3bbfef9464",
   "metadata": {},
   "outputs": [],
   "source": []
  }
 ],
 "metadata": {
  "kernelspec": {
   "display_name": "Python 3 (ipykernel)",
   "language": "python",
   "name": "python3"
  },
  "language_info": {
   "codemirror_mode": {
    "name": "ipython",
    "version": 3
   },
   "file_extension": ".py",
   "mimetype": "text/x-python",
   "name": "python",
   "nbconvert_exporter": "python",
   "pygments_lexer": "ipython3",
   "version": "3.10.8"
  }
 },
 "nbformat": 4,
 "nbformat_minor": 5
}
