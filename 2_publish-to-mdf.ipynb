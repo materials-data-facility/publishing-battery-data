{
 "cells": [
  {
   "cell_type": "markdown",
   "id": "12baa199-5ef8-49a6-b8bd-4d698471fc7a",
   "metadata": {},
   "source": [
    "# Publish Dataset to the MDF\n",
    "Publishes our data to the Materials Data Facility"
   ]
  },
  {
   "cell_type": "code",
   "execution_count": 1,
   "id": "27b966ea-8abc-4547-8b84-a526219ceb03",
   "metadata": {},
   "outputs": [],
   "source": [
    "from mdf_connect_client import MDFConnectClient\n",
    "from batdata import __version__ as bd_version\n",
    "from pathlib import Path"
   ]
  },
  {
   "cell_type": "markdown",
   "id": "fcc4b7c5-79b9-47af-a5a1-dab6f4744137",
   "metadata": {},
   "source": [
    "Configuration"
   ]
  },
  {
   "cell_type": "code",
   "execution_count": 2,
   "id": "3399a800-22ca-4f8a-8e58-fd90f5989bdb",
   "metadata": {},
   "outputs": [],
   "source": [
    "source_endpoint = '0c3771de-f236-11ec-b3c1-15403b7b75ed'  # Globus endpoint of my desktop\n",
    "data_path = Path.cwd() / 'data'"
   ]
  },
  {
   "cell_type": "markdown",
   "id": "e7f50a48-dc9f-40ef-ad38-da64716d2016",
   "metadata": {},
   "source": [
    "## Create the client\n",
    "This will handle authentication with the Materials Data Facility"
   ]
  },
  {
   "cell_type": "code",
   "execution_count": 3,
   "id": "597c39f0-08c1-4efc-a421-924a9c4cc119",
   "metadata": {},
   "outputs": [],
   "source": [
    "client = MDFConnectClient()"
   ]
  },
  {
   "cell_type": "markdown",
   "id": "1ec9d39a-cb93-4575-9054-61714186c9f9",
   "metadata": {},
   "source": [
    "## Add basic metadata\n",
    "Authors, titles, related publications"
   ]
  },
  {
   "cell_type": "code",
   "execution_count": 13,
   "id": "46d25494-bf3f-4e56-9cc1-40974c54eac9",
   "metadata": {},
   "outputs": [],
   "source": [
    "n_refined = len(list((data_path / 'refined').glob(\"*.h5\")))\n",
    "n_other = len(list((data_path / 'other').glob(\"*.h5\")))"
   ]
  },
  {
   "cell_type": "code",
   "execution_count": 14,
   "id": "f134aa7b-f6db-4732-8468-4bea0519ee80",
   "metadata": {},
   "outputs": [],
   "source": [
    "client.create_dc_block(\n",
    "    'Dataset of NMC battery Tests from CAMP, 2023 Release',\n",
    "    authors = [\n",
    "        'Logan Ward',\n",
    "        'Joseph Kubal',\n",
    "        'Susan J. Babinec',\n",
    "        'Wenquan Lu',\n",
    "        'Allison Dunlop',\n",
    "        'Steve Trask',\n",
    "        'Andrew Jansen',\n",
    "        'Noah H. Paulson'\n",
    "    ],\n",
    "    affiliations='Argonne National Laboratory',\n",
    "    description='Collection of longevity tests of Nickel-Manganese-Cobalt (NMC) batteries from the '\n",
    "                'Cell Analysis, Modeling, and Prototyping (CAMP) Facility at Argonne National Laboratory. '\n",
    "                f'The dataset contains all {n_refined} cells used by Paulson et al. to study the effect of feature '\n",
    "                f'engineering on machine learning models to predict the life of batteries, and {n_other} cells that '\n",
    "                'failed to meet acceptence criteria for that study. '\n",
    "                f'Each cell is stored in the HDF5 format of Argonne\\'s Battery Data Toolkit v{bd_version}, '\n",
    "                'which includes battery metadata, the raw signal from the testing equipment, and '\n",
    "                'per-cycle summaries of battery performance.',\n",
    "    related_dois=['10.1016/j.jpowsour.2022.231127']\n",
    ")"
   ]
  },
  {
   "cell_type": "code",
   "execution_count": 15,
   "id": "80d32c82-9f40-4837-aa62-7533146488d2",
   "metadata": {},
   "outputs": [],
   "source": [
    "client.set_source_name('camp_2023')"
   ]
  },
  {
   "cell_type": "code",
   "execution_count": 16,
   "id": "547277e2-64cd-4b92-a9cf-d7d51582acb6",
   "metadata": {},
   "outputs": [
    {
     "name": "stdout",
     "output_type": "stream",
     "text": [
      "Collection of longevity tests of Nickel-Manganese-Cobalt (NMC) batteries from the Cell Analysis, Modeling, and Prototyping (CAMP) Facility at Argonne National Laboratory. The dataset contains all 278 cells used by Paulson et al. to study the effect of feature engineering on machine learning models to predict the life of batteries, and 291 cells that failed to meet acceptence criteria for that study. Each cell is stored in the HDF5 format of Argonne's Battery Data Toolkit v0.1.0, which includes battery metadata, the raw signal from the testing equipment, and per-cycle summaries of battery performance.\n"
     ]
    }
   ],
   "source": [
    "print(client.dc['descriptions'][0]['description'])"
   ]
  },
  {
   "cell_type": "markdown",
   "id": "44740e38-9576-4077-98ce-d29c954d3584",
   "metadata": {},
   "source": [
    "## Add Data Source\n",
    "Tell MDF where to get the data from"
   ]
  },
  {
   "cell_type": "code",
   "execution_count": 8,
   "id": "1017ba7c-5973-4cab-826f-deafd612ac28",
   "metadata": {},
   "outputs": [],
   "source": [
    "client.add_data_source(f'globus://{source_endpoint}{data_path.absolute()}')"
   ]
  },
  {
   "cell_type": "markdown",
   "id": "9dae2556-6eb5-4c9e-88c3-436c755e78d4",
   "metadata": {},
   "source": [
    "TODO: Pull the submission trigger"
   ]
  },
  {
   "cell_type": "code",
   "execution_count": null,
   "id": "0df24fc9-4cc4-4d5b-a137-afbb761e23e5",
   "metadata": {},
   "outputs": [],
   "source": []
  }
 ],
 "metadata": {
  "kernelspec": {
   "display_name": "Python 3 (ipykernel)",
   "language": "python",
   "name": "python3"
  },
  "language_info": {
   "codemirror_mode": {
    "name": "ipython",
    "version": 3
   },
   "file_extension": ".py",
   "mimetype": "text/x-python",
   "name": "python",
   "nbconvert_exporter": "python",
   "pygments_lexer": "ipython3",
   "version": "3.10.8"
  }
 },
 "nbformat": 4,
 "nbformat_minor": 5
}
