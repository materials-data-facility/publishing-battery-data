{
 "cells": [
  {
   "cell_type": "markdown",
   "id": "12baa199-5ef8-49a6-b8bd-4d698471fc7a",
   "metadata": {},
   "source": [
    "# Publish Dataset to the MDF\n",
    "Publishes our data to the Materials Data Facility"
   ]
  },
  {
   "cell_type": "code",
   "execution_count": 1,
   "id": "27b966ea-8abc-4547-8b84-a526219ceb03",
   "metadata": {},
   "outputs": [],
   "source": [
    "from mdf_connect_client import MDFConnectClient\n",
    "from globus_sdk import LocalGlobusConnectPersonal\n",
    "from battdat import __version__ as bd_version\n",
    "from zipfile import ZipFile, ZIP_DEFLATED\n",
    "from pathlib import Path, PurePosixPath\n",
    "from shutil import rmtree\n",
    "import html"
   ]
  },
  {
   "cell_type": "markdown",
   "id": "fcc4b7c5-79b9-47af-a5a1-dab6f4744137",
   "metadata": {},
   "source": [
    "Configuration"
   ]
  },
  {
   "cell_type": "code",
   "execution_count": 2,
   "id": "4179307d-dd2e-4b6d-a4fe-9ec579a2775a",
   "metadata": {},
   "outputs": [],
   "source": [
    "local_ep = LocalGlobusConnectPersonal()"
   ]
  },
  {
   "cell_type": "code",
   "execution_count": 3,
   "id": "3399a800-22ca-4f8a-8e58-fd90f5989bdb",
   "metadata": {},
   "outputs": [],
   "source": [
    "source_endpoint = local_ep.endpoint_id  # Globus endpoint of my desktop\n",
    "data_path = Path.cwd() / 'data'"
   ]
  },
  {
   "cell_type": "markdown",
   "id": "245a97ee-9501-42db-bdc2-2101079bf84c",
   "metadata": {},
   "source": [
    "## Clean the directories\n",
    "Remove temporary files placed by Jupyter"
   ]
  },
  {
   "cell_type": "code",
   "execution_count": 4,
   "id": "7dcb218f-5eb1-441c-9c6f-53c1f8cc6c4e",
   "metadata": {},
   "outputs": [],
   "source": [
    "for path in data_path.glob('*data/**/.ipynb_checkpoints'):\n",
    "    rmtree(path)\n",
    "    print(f'Removed: {path.relative_to(Path().cwd())}')"
   ]
  },
  {
   "cell_type": "markdown",
   "id": "5d8f0f59-1d36-4b56-ab4a-f9e8d94fa5e4",
   "metadata": {},
   "source": [
    "## Make a ZIP of all HDF5 files\n",
    "Something easy for people to download"
   ]
  },
  {
   "cell_type": "code",
   "execution_count": 5,
   "id": "2fb4ecbc-3f42-4223-9638-c8a0e1348d9e",
   "metadata": {},
   "outputs": [],
   "source": [
    "zip_path = data_path / 'all_hdf5s.zip'\n",
    "zip_path.unlink(missing_ok=True)"
   ]
  },
  {
   "cell_type": "code",
   "execution_count": 6,
   "id": "a870973b-fc53-4adc-8d59-16ac514048ee",
   "metadata": {},
   "outputs": [],
   "source": [
    "with ZipFile(data_path / 'all_hdf5s.zip', 'w', compresslevel=9, compression=ZIP_DEFLATED) as zf:\n",
    "    for file in (data_path / 'hdf5' ).rglob(\"*.h5\"):\n",
    "        zf.write(file, arcname=file.relative_to(data_path / 'hdf5'))"
   ]
  },
  {
   "cell_type": "markdown",
   "id": "e7f50a48-dc9f-40ef-ad38-da64716d2016",
   "metadata": {},
   "source": [
    "## Create the client\n",
    "This will handle authentication with the Materials Data Facility"
   ]
  },
  {
   "cell_type": "code",
   "execution_count": 7,
   "id": "597c39f0-08c1-4efc-a421-924a9c4cc119",
   "metadata": {},
   "outputs": [
    {
     "name": "stdout",
     "output_type": "stream",
     "text": [
      "Starting login with Globus Auth, press ^C to cancel.\n"
     ]
    }
   ],
   "source": [
    "client = MDFConnectClient()"
   ]
  },
  {
   "cell_type": "markdown",
   "id": "1ec9d39a-cb93-4575-9054-61714186c9f9",
   "metadata": {},
   "source": [
    "## Add basic metadata\n",
    "Authors, titles, related publications"
   ]
  },
  {
   "cell_type": "code",
   "execution_count": 8,
   "id": "46d25494-bf3f-4e56-9cc1-40974c54eac9",
   "metadata": {},
   "outputs": [],
   "source": [
    "n_refined = len(list((data_path / 'hdf5' / 'refined').glob(\"*.h5\")))\n",
    "n_other = len(list((data_path / 'hdf5' / 'other').glob(\"*.h5\")))\n",
    "assert n_refined == 300\n",
    "assert n_refined + n_other == 602"
   ]
  },
  {
   "cell_type": "code",
   "execution_count": 9,
   "id": "f134aa7b-f6db-4732-8468-4bea0519ee80",
   "metadata": {},
   "outputs": [],
   "source": [
    "client.create_dc_block(\n",
    "    'Dataset of NMC battery Tests from CAMP, 2023 Release',\n",
    "    authors = [\n",
    "        'Logan Ward',\n",
    "        'Joseph Kubal',\n",
    "        'Susan J. Babinec',\n",
    "        'Wenquan Lu',\n",
    "        'Allison Dunlop',\n",
    "        'Steve Trask',\n",
    "        'Bryant Polzin',\n",
    "        'Andrew Jansen',\n",
    "        'Noah H. Paulson'\n",
    "    ],\n",
    "    affiliations='Argonne National Laboratory',\n",
    "    description='Collection of cycle life tests of Li-ion batteries from the '\n",
    "                'Cell Analysis, Modeling, and Prototyping (CAMP) Facility at Argonne National Laboratory. '\n",
    "                f'The dataset contains all {n_refined} cells used by Paulson et al. to study the effect of feature '\n",
    "                'engineering on machine learning models to predict the life of batteries, which were selected because they '\n",
    "                'have a graphite anode, used low charging rates, and were tested for at least 100 cycles. '\n",
    "                f'We also include {n_other} cells that '\n",
    "                'failed to meet acceptence criteria for that study. '\n",
    "                f'Each cell is stored in the HDF5 format of Argonne\\'s Battery Data Toolkit v{bd_version}, '\n",
    "                'which includes battery metadata, the raw signal from the testing equipment, and '\n",
    "                'per-cycle summaries of battery performance.',\n",
    "    related_dois=['10.1016/j.jpowsour.2022.231127']\n",
    ")"
   ]
  },
  {
   "cell_type": "code",
   "execution_count": 10,
   "id": "80d32c82-9f40-4837-aa62-7533146488d2",
   "metadata": {},
   "outputs": [],
   "source": [
    "client.set_source_name('camp_2023')"
   ]
  },
  {
   "cell_type": "code",
   "execution_count": 11,
   "id": "547277e2-64cd-4b92-a9cf-d7d51582acb6",
   "metadata": {},
   "outputs": [
    {
     "name": "stdout",
     "output_type": "stream",
     "text": [
      "Collection of cycle life tests of Li-ion batteries from the Cell Analysis, Modeling, and Prototyping (CAMP) Facility at Argonne National Laboratory. The dataset contains all 300 cells used by Paulson et al. to study the effect of feature engineering on machine learning models to predict the life of batteries, which were selected because they have a graphite anode, used low charging rates, and were tested for at least 100 cycles. We also include 302 cells that failed to meet acceptence criteria for that study. Each cell is stored in the HDF5 format of Argonne's Battery Data Toolkit v0.4.3, which includes battery metadata, the raw signal from the testing equipment, and per-cycle summaries of battery performance.\n"
     ]
    }
   ],
   "source": [
    "print(client.dc['descriptions'][0]['description'])"
   ]
  },
  {
   "cell_type": "markdown",
   "id": "44740e38-9576-4077-98ce-d29c954d3584",
   "metadata": {},
   "source": [
    "## Add Data Source\n",
    "Tell MDF where to get the data from"
   ]
  },
  {
   "cell_type": "markdown",
   "id": "3f6c1f65-e3cc-462e-b450-6dfdbc201f8d",
   "metadata": {},
   "source": [
    "Prepend the drive letter if on Windows"
   ]
  },
  {
   "cell_type": "code",
   "execution_count": 12,
   "id": "a3c27fde-2cb0-4d3f-b54b-57107c072c53",
   "metadata": {},
   "outputs": [],
   "source": [
    "if len(data_path.drive) > 0:\n",
    "    globus_path = data_path.relative_to(data_path.drive + '/').as_posix()\n",
    "    globus_path = PurePosixPath('/') / data_path.drive.rstrip(':') / globus_path\n",
    "else:\n",
    "    globus_path = data_path.absolute()"
   ]
  },
  {
   "cell_type": "code",
   "execution_count": 13,
   "id": "89f7d688-0bb3-4720-affe-6bb10b2c3b14",
   "metadata": {},
   "outputs": [],
   "source": [
    "client.add_data_source(f'https://app.globus.org/file-manager?origin_id={source_endpoint}&origin_path={html.escape(str(globus_path))}')"
   ]
  },
  {
   "cell_type": "markdown",
   "id": "9dae2556-6eb5-4c9e-88c3-436c755e78d4",
   "metadata": {},
   "source": [
    "# Submit the Dataset\n",
    "Send it to the Materials Data Facility to be Processed"
   ]
  },
  {
   "cell_type": "code",
   "execution_count": 14,
   "id": "9ad917ee-8e4a-41bc-9fac-25c9394ecb7e",
   "metadata": {},
   "outputs": [],
   "source": [
    "client.set_organization(\"MDF Open\")  # Mark that we want it to go to MDF"
   ]
  },
  {
   "cell_type": "markdown",
   "id": "69de9d72-cead-4813-9e88-c439b2e0bd1b",
   "metadata": {},
   "source": [
    "Print out what I submitted"
   ]
  },
  {
   "cell_type": "code",
   "execution_count": 15,
   "id": "03a7dfd8-9c2f-43be-94a7-6697da60910c",
   "metadata": {},
   "outputs": [
    {
     "data": {
      "text/plain": [
       "{'dc': {'titles': [{'title': 'Dataset of NMC battery Tests from CAMP, 2023 Release'}],\n",
       "  'creators': [{'creatorName': 'Ward, Logan',\n",
       "    'familyName': 'Ward',\n",
       "    'givenName': 'Logan',\n",
       "    'affiliations': ['Argonne National Laboratory']},\n",
       "   {'creatorName': 'Kubal, Joseph',\n",
       "    'familyName': 'Kubal',\n",
       "    'givenName': 'Joseph',\n",
       "    'affiliations': ['Argonne National Laboratory']},\n",
       "   {'creatorName': 'Babinec, Susan J.',\n",
       "    'familyName': 'Babinec',\n",
       "    'givenName': 'Susan J.',\n",
       "    'affiliations': ['Argonne National Laboratory']},\n",
       "   {'creatorName': 'Lu, Wenquan',\n",
       "    'familyName': 'Lu',\n",
       "    'givenName': 'Wenquan',\n",
       "    'affiliations': ['Argonne National Laboratory']},\n",
       "   {'creatorName': 'Dunlop, Allison',\n",
       "    'familyName': 'Dunlop',\n",
       "    'givenName': 'Allison',\n",
       "    'affiliations': ['Argonne National Laboratory']},\n",
       "   {'creatorName': 'Trask, Steve',\n",
       "    'familyName': 'Trask',\n",
       "    'givenName': 'Steve',\n",
       "    'affiliations': ['Argonne National Laboratory']},\n",
       "   {'creatorName': 'Polzin, Bryant',\n",
       "    'familyName': 'Polzin',\n",
       "    'givenName': 'Bryant',\n",
       "    'affiliations': ['Argonne National Laboratory']},\n",
       "   {'creatorName': 'Jansen, Andrew',\n",
       "    'familyName': 'Jansen',\n",
       "    'givenName': 'Andrew',\n",
       "    'affiliations': ['Argonne National Laboratory']},\n",
       "   {'creatorName': 'Paulson, Noah H.',\n",
       "    'familyName': 'Paulson',\n",
       "    'givenName': 'Noah H.',\n",
       "    'affiliations': ['Argonne National Laboratory']}],\n",
       "  'publisher': 'Materials Data Facility',\n",
       "  'publicationYear': '2025',\n",
       "  'resourceType': {'resourceTypeGeneral': 'Dataset',\n",
       "   'resourceType': 'Dataset'},\n",
       "  'descriptions': [{'description': \"Collection of cycle life tests of Li-ion batteries from the Cell Analysis, Modeling, and Prototyping (CAMP) Facility at Argonne National Laboratory. The dataset contains all 300 cells used by Paulson et al. to study the effect of feature engineering on machine learning models to predict the life of batteries, which were selected because they have a graphite anode, used low charging rates, and were tested for at least 100 cycles. We also include 302 cells that failed to meet acceptence criteria for that study. Each cell is stored in the HDF5 format of Argonne's Battery Data Toolkit v0.4.3, which includes battery metadata, the raw signal from the testing equipment, and per-cycle summaries of battery performance.\",\n",
       "    'descriptionType': 'Other'}],\n",
       "  'relatedIdentifiers': [{'relatedIdentifier': '10.1016/j.jpowsour.2022.231127',\n",
       "    'relatedIdentifierType': 'DOI',\n",
       "    'relationType': 'IsPartOf'}]},\n",
       " 'data_sources': ['https://app.globus.org/file-manager?origin_id=0c3771de-f236-11ec-b3c1-15403b7b75ed&origin_path=/home/lward/Work/ROVI/publishing-camp-data/data'],\n",
       " 'test': False,\n",
       " 'update': False,\n",
       " 'mdf': {'source_name': 'camp_2023', 'organization': 'MDF Open'},\n",
       " 'update_metadata_only': False}"
      ]
     },
     "execution_count": 15,
     "metadata": {},
     "output_type": "execute_result"
    }
   ],
   "source": [
    "client.get_submission()"
   ]
  },
  {
   "cell_type": "code",
   "execution_count": 16,
   "id": "0df24fc9-4cc4-4d5b-a137-afbb761e23e5",
   "metadata": {},
   "outputs": [
    {
     "data": {
      "text/plain": [
       "{'source_id': 'camp_2023', 'success': True, 'error': None, 'status_code': 202}"
      ]
     },
     "execution_count": 16,
     "metadata": {},
     "output_type": "execute_result"
    }
   ],
   "source": [
    "result = client.submit_dataset(update=True)\n",
    "result"
   ]
  },
  {
   "cell_type": "code",
   "execution_count": null,
   "id": "2e0b72d0-72fc-4f08-9ef7-36d209545ef1",
   "metadata": {},
   "outputs": [],
   "source": []
  }
 ],
 "metadata": {
  "kernelspec": {
   "display_name": "Python 3 (ipykernel)",
   "language": "python",
   "name": "python3"
  },
  "language_info": {
   "codemirror_mode": {
    "name": "ipython",
    "version": 3
   },
   "file_extension": ".py",
   "mimetype": "text/x-python",
   "name": "python",
   "nbconvert_exporter": "python",
   "pygments_lexer": "ipython3",
   "version": "3.11.11"
  }
 },
 "nbformat": 4,
 "nbformat_minor": 5
}
