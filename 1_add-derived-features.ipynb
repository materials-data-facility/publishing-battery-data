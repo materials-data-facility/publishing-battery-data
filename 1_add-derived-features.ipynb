{
 "cells": [
  {
   "cell_type": "markdown",
   "id": "a1c07eac-dca9-454f-8dea-2e9695017fa9",
   "metadata": {},
   "source": [
    "# Add Cycle-Level Features\n",
    "We use a few different types of faetures that summarize cycles for the machine learning models."
   ]
  },
  {
   "cell_type": "code",
   "execution_count": 1,
   "id": "06d4dc4b-cae5-4af4-b247-e3fef85cc3e4",
   "metadata": {},
   "outputs": [],
   "source": [
    "%matplotlib inline\n",
    "from matplotlib import pyplot as plt\n",
    "from battdat.postprocess.integral import CapacityPerCycle, StateOfCharge\n",
    "from battdat.postprocess.timing import CycleTimesSummarizer\n",
    "from battdat.data import BatteryDataset\n",
    "from concurrent.futures import ProcessPoolExecutor\n",
    "from functools import partial\n",
    "from pathlib import Path\n",
    "from tqdm import tqdm\n",
    "import pandas as pd"
   ]
  },
  {
   "cell_type": "markdown",
   "id": "3f0070ab-db5c-4ac8-9a2c-5a3666f540a0",
   "metadata": {},
   "source": [
    "Configuration"
   ]
  },
  {
   "cell_type": "code",
   "execution_count": 2,
   "id": "a503d6ae-daf0-4d23-a1e5-9470b8a4cadb",
   "metadata": {},
   "outputs": [],
   "source": [
    "hdf5_path = './data/hdf5/'"
   ]
  },
  {
   "cell_type": "markdown",
   "id": "16fccd76-bb30-43e1-aaaf-bbf0fbf006d4",
   "metadata": {},
   "source": [
    "## Load in an example cell\n",
    "Start with one to show off how this works"
   ]
  },
  {
   "cell_type": "code",
   "execution_count": 3,
   "id": "944ca2d1-7d94-4cdf-aca4-7cbca3a8f003",
   "metadata": {},
   "outputs": [],
   "source": [
    "dataset = BatteryDataset.from_hdf('./data/hdf5/refined/batch_B28B_cell_2.h5')"
   ]
  },
  {
   "cell_type": "markdown",
   "id": "6fc8a205-762c-4e9e-aedb-4936c41be363",
   "metadata": {},
   "source": [
    "## Compute the Features\n",
    "Each is described using a different class"
   ]
  },
  {
   "cell_type": "markdown",
   "id": "a54771a7-0303-48bf-b378-e9922977c3a2",
   "metadata": {},
   "source": [
    "### Capacity Per Cycle\n",
    "Compute the amount of charge pushed into the battery and the "
   ]
  },
  {
   "cell_type": "code",
   "execution_count": 4,
   "id": "b7f5fc2b-c434-4eb5-ab7d-d9af5a3e795d",
   "metadata": {},
   "outputs": [],
   "source": [
    "CapacityPerCycle().add_summaries(dataset)"
   ]
  },
  {
   "cell_type": "code",
   "execution_count": 5,
   "id": "c656a8c6-87b0-422e-8e0e-1feb9f3b3dcf",
   "metadata": {},
   "outputs": [
    {
     "data": {
      "text/plain": [
       "Text(0, 0.5, 'Charge Capacity (A-hr)')"
      ]
     },
     "execution_count": 5,
     "metadata": {},
     "output_type": "execute_result"
    },
    {
     "data": {
      "image/png": "[encoded data removed]",
      "text/plain": [
       "<Figure size 350x250 with 1 Axes>"
      ]
     },
     "metadata": {},
     "output_type": "display_data"
    }
   ],
   "source": [
    "fig, ax = plt.subplots(figsize=(3.5, 2.5))\n",
    "\n",
    "ax.plot(dataset.cycle_stats['capacity_charge'])\n",
    "\n",
    "ax.set_xlabel('Cycle')\n",
    "ax.set_ylabel('Charge Capacity (A-hr)')"
   ]
  },
  {
   "cell_type": "code",
   "execution_count": 6,
   "id": "178c7d37-4811-4e6b-9249-dab587ac8707",
   "metadata": {},
   "outputs": [
    {
     "data": {
      "text/html": [
       "<div>\n",
       "<style scoped>\n",
       "    .dataframe tbody tr th:only-of-type {\n",
       "        vertical-align: middle;\n",
       "    }\n",
       "\n",
       "    .dataframe tbody tr th {\n",
       "        vertical-align: top;\n",
       "    }\n",
       "\n",
       "    .dataframe thead th {\n",
       "        text-align: right;\n",
       "    }\n",
       "</style>\n",
       "<table border=\"1\" class=\"dataframe\">\n",
       "  <thead>\n",
       "    <tr style=\"text-align: right;\">\n",
       "      <th></th>\n",
       "      <th>cycle_number</th>\n",
       "      <th>energy_charge</th>\n",
       "      <th>capacity_charge</th>\n",
       "      <th>energy_discharge</th>\n",
       "      <th>capacity_discharge</th>\n",
       "    </tr>\n",
       "  </thead>\n",
       "  <tbody>\n",
       "    <tr>\n",
       "      <th>0</th>\n",
       "      <td>0</td>\n",
       "      <td>4.336156e-07</td>\n",
       "      <td>1.250638e-07</td>\n",
       "      <td>0.000000</td>\n",
       "      <td>0.000000</td>\n",
       "    </tr>\n",
       "    <tr>\n",
       "      <th>1</th>\n",
       "      <td>1</td>\n",
       "      <td>1.460777e+00</td>\n",
       "      <td>3.913738e-01</td>\n",
       "      <td>1.545622</td>\n",
       "      <td>0.420994</td>\n",
       "    </tr>\n",
       "    <tr>\n",
       "      <th>2</th>\n",
       "      <td>2</td>\n",
       "      <td>1.562767e+00</td>\n",
       "      <td>4.219583e-01</td>\n",
       "      <td>1.539038</td>\n",
       "      <td>0.419249</td>\n",
       "    </tr>\n",
       "    <tr>\n",
       "      <th>3</th>\n",
       "      <td>3</td>\n",
       "      <td>1.555165e+00</td>\n",
       "      <td>4.194255e-01</td>\n",
       "      <td>1.517107</td>\n",
       "      <td>0.413389</td>\n",
       "    </tr>\n",
       "    <tr>\n",
       "      <th>4</th>\n",
       "      <td>4</td>\n",
       "      <td>1.534272e+00</td>\n",
       "      <td>4.134042e-01</td>\n",
       "      <td>1.513609</td>\n",
       "      <td>0.412468</td>\n",
       "    </tr>\n",
       "  </tbody>\n",
       "</table>\n",
       "</div>"
      ],
      "text/plain": [
       "   cycle_number  energy_charge  capacity_charge  energy_discharge  \\\n",
       "0             0   4.336156e-07     1.250638e-07          0.000000   \n",
       "1             1   1.460777e+00     3.913738e-01          1.545622   \n",
       "2             2   1.562767e+00     4.219583e-01          1.539038   \n",
       "3             3   1.555165e+00     4.194255e-01          1.517107   \n",
       "4             4   1.534272e+00     4.134042e-01          1.513609   \n",
       "\n",
       "   capacity_discharge  \n",
       "0            0.000000  \n",
       "1            0.420994  \n",
       "2            0.419249  \n",
       "3            0.413389  \n",
       "4            0.412468  "
      ]
     },
     "execution_count": 6,
     "metadata": {},
     "output_type": "execute_result"
    }
   ],
   "source": [
    "dataset.cycle_stats.head(5)"
   ]
  },
  {
   "cell_type": "markdown",
   "id": "0c3706f5-741a-41db-aaac-f584d776d5ce",
   "metadata": {},
   "source": [
    "## Run for each cell\n",
    "Load in, create cycle summaries, save back"
   ]
  },
  {
   "cell_type": "code",
   "execution_count": 7,
   "id": "2b806c37-58ec-4fe1-8298-da1e517865ec",
   "metadata": {},
   "outputs": [],
   "source": [
    "feature_computers = [CapacityPerCycle(), StateOfCharge(), CycleTimesSummarizer()]"
   ]
  },
  {
   "cell_type": "markdown",
   "id": "c3828279-d32f-4200-868f-9f4a91b0383b",
   "metadata": {},
   "source": [
    "Make a function we can run in parallel"
   ]
  },
  {
   "cell_type": "code",
   "execution_count": 8,
   "id": "065446c5-3fb2-4738-8714-c799629d16b8",
   "metadata": {},
   "outputs": [],
   "source": [
    "def add_features(file: Path, computers: list):\n",
    "    \"\"\"Add features to a certain file\"\"\"\n",
    "    from warnings import catch_warnings, filterwarnings\n",
    "    dataset = BatteryDataset.from_hdf(str(file))\n",
    "    with catch_warnings():\n",
    "        filterwarnings('ignore')\n",
    "        for feature in feature_computers:\n",
    "            feature.compute_features(dataset)\n",
    "    dataset.to_hdf(str(file), complevel=9)\n",
    "    return file\n",
    "func = partial(add_features, computers=feature_computers)"
   ]
  },
  {
   "cell_type": "code",
   "execution_count": 9,
   "id": "bff61e7a-178d-4e74-be7c-074396f1dc75",
   "metadata": {},
   "outputs": [
    {
     "name": "stderr",
     "output_type": "stream",
     "text": [
      "602it [54:36,  5.44s/it]\n"
     ]
    }
   ],
   "source": [
    "for path in tqdm(Path(hdf5_path).rglob('*.h5')):\n",
    "    func(path)"
   ]
  },
  {
   "cell_type": "markdown",
   "id": "869421e8-207e-487a-8d3a-4c70788a0adc",
   "metadata": {},
   "source": [
    "## Show the improved HDF5 file\n",
    "The features are now part of HDF5 file"
   ]
  },
  {
   "cell_type": "code",
   "execution_count": 10,
   "id": "43c10023-e3ca-42f7-b34e-c740ee964909",
   "metadata": {},
   "outputs": [],
   "source": [
    "dataset = BatteryDataset.from_hdf('./data/hdf5/refined/batch_B28B_cell_2.h5')"
   ]
  },
  {
   "cell_type": "code",
   "execution_count": 11,
   "id": "75535afa-cf0e-486e-8529-290c5d6b090c",
   "metadata": {},
   "outputs": [
    {
     "data": {
      "text/html": [
       "<div>\n",
       "<style scoped>\n",
       "    .dataframe tbody tr th:only-of-type {\n",
       "        vertical-align: middle;\n",
       "    }\n",
       "\n",
       "    .dataframe tbody tr th {\n",
       "        vertical-align: top;\n",
       "    }\n",
       "\n",
       "    .dataframe thead th {\n",
       "        text-align: right;\n",
       "    }\n",
       "</style>\n",
       "<table border=\"1\" class=\"dataframe\">\n",
       "  <thead>\n",
       "    <tr style=\"text-align: right;\">\n",
       "      <th></th>\n",
       "      <th>cycle_number</th>\n",
       "      <th>energy_charge</th>\n",
       "      <th>capacity_charge</th>\n",
       "      <th>energy_discharge</th>\n",
       "      <th>capacity_discharge</th>\n",
       "      <th>cycle_start</th>\n",
       "      <th>cycle_duration</th>\n",
       "    </tr>\n",
       "  </thead>\n",
       "  <tbody>\n",
       "    <tr>\n",
       "      <th>0</th>\n",
       "      <td>0</td>\n",
       "      <td>4.336156e-07</td>\n",
       "      <td>1.250638e-07</td>\n",
       "      <td>0.000000</td>\n",
       "      <td>0.000000</td>\n",
       "      <td>0.00000</td>\n",
       "      <td>60.048000</td>\n",
       "    </tr>\n",
       "    <tr>\n",
       "      <th>1</th>\n",
       "      <td>1</td>\n",
       "      <td>1.460777e+00</td>\n",
       "      <td>3.913738e-01</td>\n",
       "      <td>1.545622</td>\n",
       "      <td>0.420994</td>\n",
       "      <td>60.04800</td>\n",
       "      <td>156219.453125</td>\n",
       "    </tr>\n",
       "    <tr>\n",
       "      <th>2</th>\n",
       "      <td>2</td>\n",
       "      <td>1.562767e+00</td>\n",
       "      <td>4.219583e-01</td>\n",
       "      <td>1.539038</td>\n",
       "      <td>0.419249</td>\n",
       "      <td>156279.50000</td>\n",
       "      <td>161755.468750</td>\n",
       "    </tr>\n",
       "    <tr>\n",
       "      <th>3</th>\n",
       "      <td>3</td>\n",
       "      <td>1.555165e+00</td>\n",
       "      <td>4.194255e-01</td>\n",
       "      <td>1.517107</td>\n",
       "      <td>0.413389</td>\n",
       "      <td>318034.96875</td>\n",
       "      <td>80239.937500</td>\n",
       "    </tr>\n",
       "    <tr>\n",
       "      <th>4</th>\n",
       "      <td>4</td>\n",
       "      <td>1.534272e+00</td>\n",
       "      <td>4.134042e-01</td>\n",
       "      <td>1.513609</td>\n",
       "      <td>0.412468</td>\n",
       "      <td>398274.90625</td>\n",
       "      <td>79615.718750</td>\n",
       "    </tr>\n",
       "  </tbody>\n",
       "</table>\n",
       "</div>"
      ],
      "text/plain": [
       "   cycle_number  energy_charge  capacity_charge  energy_discharge  \\\n",
       "0             0   4.336156e-07     1.250638e-07          0.000000   \n",
       "1             1   1.460777e+00     3.913738e-01          1.545622   \n",
       "2             2   1.562767e+00     4.219583e-01          1.539038   \n",
       "3             3   1.555165e+00     4.194255e-01          1.517107   \n",
       "4             4   1.534272e+00     4.134042e-01          1.513609   \n",
       "\n",
       "   capacity_discharge   cycle_start  cycle_duration  \n",
       "0            0.000000       0.00000       60.048000  \n",
       "1            0.420994      60.04800   156219.453125  \n",
       "2            0.419249  156279.50000   161755.468750  \n",
       "3            0.413389  318034.96875    80239.937500  \n",
       "4            0.412468  398274.90625    79615.718750  "
      ]
     },
     "execution_count": 11,
     "metadata": {},
     "output_type": "execute_result"
    }
   ],
   "source": [
    "dataset.cycle_stats.head(5)"
   ]
  },
  {
   "cell_type": "code",
   "execution_count": null,
   "id": "2548b245-d1d9-40d1-8569-fe6838ae001d",
   "metadata": {},
   "outputs": [],
   "source": []
  }
 ],
 "metadata": {
  "kernelspec": {
   "display_name": "Python 3 (ipykernel)",
   "language": "python",
   "name": "python3"
  },
  "language_info": {
   "codemirror_mode": {
    "name": "ipython",
    "version": 3
   },
   "file_extension": ".py",
   "mimetype": "text/x-python",
   "name": "python",
   "nbconvert_exporter": "python",
   "pygments_lexer": "ipython3",
   "version": "3.11.11"
  }
 },
 "nbformat": 4,
 "nbformat_minor": 5
}
