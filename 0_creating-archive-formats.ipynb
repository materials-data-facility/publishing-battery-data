{
 "cells": [
  {
   "cell_type": "markdown",
   "id": "bb062297-7821-4df2-8474-8fad271e7c30",
   "metadata": {},
   "source": [
    "# Creating Archive-Ready Metadata\n",
    "The raw data is split into a few different files:\n",
    "- [A mapping of tests to filenames](./raw-data/Summary_of_CAMP_Cells.xlsx)\n",
    "- [A mapping of tests to battery design](./raw-data/Summary_of_builds.xlsx)\n",
    "- The actual raw data from the machines in MACCOR format\n",
    "- [A list of the cells used by Paulson et al.](./raw-data/known-cells.csv)\n",
    "This notebook combines them together into a single HDF5 file for each cell."
   ]
  },
  {
   "cell_type": "code",
   "execution_count": 1,
   "id": "771937d3-8e99-453c-a0b9-36fede9eb29f",
   "metadata": {},
   "outputs": [],
   "source": [
    "from battdat.io.maccor import MACCORReader\n",
    "from battdat.schemas.battery import ElectrodeDescription, ElectrolyteDescription, BatteryDescription\n",
    "from battdat.schemas import BatteryMetadata\n",
    "from battdat.data import BatteryDataset\n",
    "from concurrent.futures import ProcessPoolExecutor, as_completed\n",
    "from datetime import datetime\n",
    "from shutil import rmtree\n",
    "from tqdm.auto import tqdm\n",
    "from pathlib import Path\n",
    "import pandas as pd\n",
    "import numpy as np"
   ]
  },
  {
   "cell_type": "markdown",
   "id": "9bc16bdc-e822-4922-9cce-2b76fd3ac5a5",
   "metadata": {},
   "source": [
    "Configuration"
   ]
  },
  {
   "cell_type": "code",
   "execution_count": 2,
   "id": "39741c3c-c44c-4771-ac5c-04ad44b03909",
   "metadata": {},
   "outputs": [],
   "source": [
    "data_path = Path('./data/raw-data/CAMP_data/')\n",
    "h5_path = Path('./data/hdf5')"
   ]
  },
  {
   "cell_type": "code",
   "execution_count": 3,
   "id": "168c0307-5d1b-47b5-bcab-f49ca6557c7e",
   "metadata": {},
   "outputs": [],
   "source": [
    "h5_path.mkdir(exist_ok=True)"
   ]
  },
  {
   "cell_type": "markdown",
   "id": "d324787c-c387-4dcf-aef0-63c2e3058e7d",
   "metadata": {},
   "source": [
    "## Load in the Mapping Spreadsheets\n",
    "These spreadsheets allow us to understand the content of the in our MACCOR files"
   ]
  },
  {
   "cell_type": "code",
   "execution_count": 4,
   "id": "ab1aa3b1-9c90-4546-8472-81c78f116c3f",
   "metadata": {},
   "outputs": [
    {
     "data": {
      "text/html": [
       "<div>\n",
       "<style scoped>\n",
       "    .dataframe tbody tr th:only-of-type {\n",
       "        vertical-align: middle;\n",
       "    }\n",
       "\n",
       "    .dataframe tbody tr th {\n",
       "        vertical-align: top;\n",
       "    }\n",
       "\n",
       "    .dataframe thead th {\n",
       "        text-align: right;\n",
       "    }\n",
       "</style>\n",
       "<table border=\"1\" class=\"dataframe\">\n",
       "  <thead>\n",
       "    <tr style=\"text-align: right;\">\n",
       "      <th></th>\n",
       "      <th>Unnamed: 0</th>\n",
       "      <th>File Name</th>\n",
       "      <th>Owner</th>\n",
       "      <th>Batch</th>\n",
       "      <th>Cell Number</th>\n",
       "      <th>Cell Test</th>\n",
       "      <th>Start Time</th>\n",
       "      <th>Initial Cycle Number</th>\n",
       "      <th>Last Cycle</th>\n",
       "      <th>Test Time</th>\n",
       "      <th>Max Capacity (Ah)</th>\n",
       "      <th>Max Energy</th>\n",
       "      <th>Max Current (A)</th>\n",
       "      <th>Min Voltage</th>\n",
       "      <th>Max Voltage</th>\n",
       "      <th>Date of Test</th>\n",
       "      <th>Path</th>\n",
       "      <th>File Comments</th>\n",
       "      <th>Procedure</th>\n",
       "      <th>Number of Cycles in file</th>\n",
       "    </tr>\n",
       "  </thead>\n",
       "  <tbody>\n",
       "    <tr>\n",
       "      <th>0</th>\n",
       "      <td>0</td>\n",
       "      <td>ARGONNE #20_SET-LN3024-104-1a.001</td>\n",
       "      <td>SET</td>\n",
       "      <td>LN3024_104</td>\n",
       "      <td>1</td>\n",
       "      <td>1a</td>\n",
       "      <td>03/31/2016 16:05:31</td>\n",
       "      <td>0.0</td>\n",
       "      <td>0.0</td>\n",
       "      <td>1.1667</td>\n",
       "      <td>0.000000</td>\n",
       "      <td>0.00000</td>\n",
       "      <td>0.000000</td>\n",
       "      <td>3.305715</td>\n",
       "      <td>3.306783</td>\n",
       "      <td>\\t03/31/2016\\t</td>\n",
       "      <td>\\tC:\\Data\\MIMS\\Backup\\ARGONNE #20\\SET-LN3024-1...</td>\n",
       "      <td>SET-LN3024-104  Targray NCM811 [LN2086-32-4] ...</td>\n",
       "      <td>ABRHV-NCM523-Form-4p1.000NCM 523  Formation T...</td>\n",
       "      <td>0.0</td>\n",
       "    </tr>\n",
       "    <tr>\n",
       "      <th>1</th>\n",
       "      <td>1</td>\n",
       "      <td>ARGONNE #20_SET-LN3024-104-1aa.001</td>\n",
       "      <td>SET</td>\n",
       "      <td>LN3024_104</td>\n",
       "      <td>1</td>\n",
       "      <td>1aa</td>\n",
       "      <td>03/31/2016 16:07:53</td>\n",
       "      <td>0.0</td>\n",
       "      <td>3.0</td>\n",
       "      <td>4942.6788</td>\n",
       "      <td>0.003038</td>\n",
       "      <td>0.01179</td>\n",
       "      <td>0.000242</td>\n",
       "      <td>2.999924</td>\n",
       "      <td>4.300908</td>\n",
       "      <td>\\t03/31/2016\\t</td>\n",
       "      <td>\\tC:\\Data\\MIMS\\Backup\\ARGONNE #20\\SET-LN3024-1...</td>\n",
       "      <td>SET-LN3024-104  Targray NCM811 [LN2086-32-4] ...</td>\n",
       "      <td>ABRHV-NCM523-Form-4p3.000NCM 523  Formation T...</td>\n",
       "      <td>3.0</td>\n",
       "    </tr>\n",
       "  </tbody>\n",
       "</table>\n",
       "</div>"
      ],
      "text/plain": [
       "   Unnamed: 0                           File Name Owner       Batch  \\\n",
       "0           0   ARGONNE #20_SET-LN3024-104-1a.001   SET  LN3024_104   \n",
       "1           1  ARGONNE #20_SET-LN3024-104-1aa.001   SET  LN3024_104   \n",
       "\n",
       "  Cell Number Cell Test           Start Time  Initial Cycle Number  \\\n",
       "0           1        1a  03/31/2016 16:05:31                   0.0   \n",
       "1           1       1aa  03/31/2016 16:07:53                   0.0   \n",
       "\n",
       "   Last Cycle  Test Time  Max Capacity (Ah)  Max Energy  Max Current (A)  \\\n",
       "0         0.0     1.1667           0.000000     0.00000         0.000000   \n",
       "1         3.0  4942.6788           0.003038     0.01179         0.000242   \n",
       "\n",
       "   Min Voltage  Max Voltage     Date of Test  \\\n",
       "0     3.305715     3.306783  \\t03/31/2016\\t    \n",
       "1     2.999924     4.300908  \\t03/31/2016\\t    \n",
       "\n",
       "                                                Path  \\\n",
       "0  \\tC:\\Data\\MIMS\\Backup\\ARGONNE #20\\SET-LN3024-1...   \n",
       "1  \\tC:\\Data\\MIMS\\Backup\\ARGONNE #20\\SET-LN3024-1...   \n",
       "\n",
       "                                       File Comments  \\\n",
       "0   SET-LN3024-104  Targray NCM811 [LN2086-32-4] ...   \n",
       "1   SET-LN3024-104  Targray NCM811 [LN2086-32-4] ...   \n",
       "\n",
       "                                           Procedure  Number of Cycles in file  \n",
       "0   ABRHV-NCM523-Form-4p1.000NCM 523  Formation T...                       0.0  \n",
       "1   ABRHV-NCM523-Form-4p3.000NCM 523  Formation T...                       3.0  "
      ]
     },
     "execution_count": 4,
     "metadata": {},
     "output_type": "execute_result"
    }
   ],
   "source": [
    "test_descriptions = pd.read_excel('data/raw-data/Summary_of_CAMP_Cells.xlsx')\n",
    "test_descriptions.head(2)"
   ]
  },
  {
   "cell_type": "code",
   "execution_count": 5,
   "id": "3f08bc60-33c2-4715-b46c-e8bbe882b353",
   "metadata": {},
   "outputs": [
    {
     "data": {
      "text/html": [
       "<div>\n",
       "<style scoped>\n",
       "    .dataframe tbody tr th:only-of-type {\n",
       "        vertical-align: middle;\n",
       "    }\n",
       "\n",
       "    .dataframe tbody tr th {\n",
       "        vertical-align: top;\n",
       "    }\n",
       "\n",
       "    .dataframe thead th {\n",
       "        text-align: right;\n",
       "    }\n",
       "</style>\n",
       "<table border=\"1\" class=\"dataframe\">\n",
       "  <thead>\n",
       "    <tr style=\"text-align: right;\">\n",
       "      <th></th>\n",
       "      <th>build</th>\n",
       "      <th>anode</th>\n",
       "      <th>cathode</th>\n",
       "      <th>cathode_full_name</th>\n",
       "      <th>cathode_supplier</th>\n",
       "      <th>anode_full_name</th>\n",
       "      <th>anode_supplier</th>\n",
       "      <th>electrolyte</th>\n",
       "      <th>electrolyte_additive</th>\n",
       "      <th>total_cathode_area (cm2)</th>\n",
       "      <th>...</th>\n",
       "      <th>number_interfaces</th>\n",
       "      <th>target_capacity (Ah)</th>\n",
       "      <th>anode_thickness (um)</th>\n",
       "      <th>anode_loading (mg/cm2)</th>\n",
       "      <th>anode_porosity</th>\n",
       "      <th>cathode_thickness (um)</th>\n",
       "      <th>cathode_loading (mg/cm2)</th>\n",
       "      <th>cathode_porosity</th>\n",
       "      <th>temperature (C)</th>\n",
       "      <th>Notes</th>\n",
       "    </tr>\n",
       "  </thead>\n",
       "  <tbody>\n",
       "    <tr>\n",
       "      <th>0</th>\n",
       "      <td>B1</td>\n",
       "      <td>C</td>\n",
       "      <td>HE5050</td>\n",
       "      <td>HE5050</td>\n",
       "      <td>Commercial</td>\n",
       "      <td>Graphite</td>\n",
       "      <td>Commercial</td>\n",
       "      <td>Gen 2</td>\n",
       "      <td>NONE</td>\n",
       "      <td>NaN</td>\n",
       "      <td>...</td>\n",
       "      <td>NaN</td>\n",
       "      <td>0.375</td>\n",
       "      <td>86.0</td>\n",
       "      <td>5.75</td>\n",
       "      <td>35.0</td>\n",
       "      <td>68.0</td>\n",
       "      <td>14.5</td>\n",
       "      <td>42.0</td>\n",
       "      <td>30.0</td>\n",
       "      <td>NaN</td>\n",
       "    </tr>\n",
       "    <tr>\n",
       "      <th>1</th>\n",
       "      <td>B1A</td>\n",
       "      <td>C</td>\n",
       "      <td>HE5050</td>\n",
       "      <td>HE5050</td>\n",
       "      <td>Commercial</td>\n",
       "      <td>Graphite</td>\n",
       "      <td>Commercial</td>\n",
       "      <td>Gen 2</td>\n",
       "      <td>NONE</td>\n",
       "      <td>NaN</td>\n",
       "      <td>...</td>\n",
       "      <td>NaN</td>\n",
       "      <td>0.375</td>\n",
       "      <td>86.0</td>\n",
       "      <td>5.75</td>\n",
       "      <td>35.0</td>\n",
       "      <td>68.0</td>\n",
       "      <td>14.5</td>\n",
       "      <td>42.0</td>\n",
       "      <td>30.0</td>\n",
       "      <td>NaN</td>\n",
       "    </tr>\n",
       "  </tbody>\n",
       "</table>\n",
       "<p>2 rows × 21 columns</p>\n",
       "</div>"
      ],
      "text/plain": [
       "  build anode cathode cathode_full_name cathode_supplier anode_full_name  \\\n",
       "0    B1     C  HE5050            HE5050       Commercial        Graphite   \n",
       "1   B1A     C  HE5050            HE5050       Commercial        Graphite   \n",
       "\n",
       "  anode_supplier electrolyte electrolyte_additive  total_cathode_area (cm2)  \\\n",
       "0     Commercial       Gen 2                 NONE                       NaN   \n",
       "1     Commercial       Gen 2                 NONE                       NaN   \n",
       "\n",
       "   ...  number_interfaces  target_capacity (Ah)  anode_thickness (um)  \\\n",
       "0  ...                NaN                 0.375                  86.0   \n",
       "1  ...                NaN                 0.375                  86.0   \n",
       "\n",
       "   anode_loading (mg/cm2)  anode_porosity  cathode_thickness (um)  \\\n",
       "0                    5.75            35.0                    68.0   \n",
       "1                    5.75            35.0                    68.0   \n",
       "\n",
       "   cathode_loading (mg/cm2)  cathode_porosity  temperature (C)  Notes  \n",
       "0                      14.5              42.0             30.0    NaN  \n",
       "1                      14.5              42.0             30.0    NaN  \n",
       "\n",
       "[2 rows x 21 columns]"
      ]
     },
     "execution_count": 5,
     "metadata": {},
     "output_type": "execute_result"
    }
   ],
   "source": [
    "cell_descriptions = pd.read_excel('data/raw-data/Summary_of_builds.xlsx')\n",
    "cell_descriptions.head(2)"
   ]
  },
  {
   "cell_type": "markdown",
   "id": "9ba0fa7d-264c-4124-a3dc-ed06cbe02c08",
   "metadata": {},
   "source": [
    "## Get the Cells from the Paper\n",
    "Get the cells that are listed in a table from Noah Paulson, describing the source fo the data in Table S1 of [our paper](https://www.sciencedirect.com/science/article/pii/S0378775322001495#appsec1)."
   ]
  },
  {
   "cell_type": "code",
   "execution_count": 6,
   "id": "441d814a-66ed-4885-bd8d-6a0b1f91ae91",
   "metadata": {},
   "outputs": [
    {
     "name": "stdout",
     "output_type": "stream",
     "text": [
      "Loaded 300 known cells\n"
     ]
    }
   ],
   "source": [
    "known_cells = pd.read_csv('data/raw-data/known-cells.csv')\n",
    "print(f'Loaded {len(known_cells)} known cells')"
   ]
  },
  {
   "cell_type": "markdown",
   "id": "f6f2f0b3-03eb-4711-b634-6dc2d14705f6",
   "metadata": {},
   "source": [
    "Go from filename to batch name and cell number"
   ]
  },
  {
   "cell_type": "code",
   "execution_count": 7,
   "id": "7bba0429-b987-451f-ae6f-33f01eb16bcd",
   "metadata": {},
   "outputs": [],
   "source": [
    "known_cells['cell_number'] = known_cells['cellname'].str.split(\"_\").apply(lambda x: x[2])\n",
    "known_cells['batch'] = known_cells['cellname'].str.split(\"_\").apply(lambda x: x[1])"
   ]
  },
  {
   "cell_type": "markdown",
   "id": "bb0f7ec4-8be7-49e8-842a-83504794042f",
   "metadata": {},
   "source": [
    "## Filter down to best-documented cells\n",
    "Get only the test descriptions where we have the \"Batch\" described in the cell descriptions"
   ]
  },
  {
   "cell_type": "code",
   "execution_count": 8,
   "id": "64e14d71-9ddf-4bf1-bb58-bd40c8051b6c",
   "metadata": {},
   "outputs": [],
   "source": [
    "is_documented = test_descriptions['Batch'].apply(lambda x: x in set(cell_descriptions['build']))"
   ]
  },
  {
   "cell_type": "code",
   "execution_count": 9,
   "id": "da34a048-fd2b-4a35-b866-46cd3470069e",
   "metadata": {},
   "outputs": [
    {
     "name": "stdout",
     "output_type": "stream",
     "text": [
      "Found descriptions for 3544/8618 tests\n"
     ]
    }
   ],
   "source": [
    "print(f'Found descriptions for {is_documented.sum()}/{len(is_documented)} tests')"
   ]
  },
  {
   "cell_type": "code",
   "execution_count": 10,
   "id": "b1ca600b-3449-4f3a-9822-f3c8dfc70612",
   "metadata": {},
   "outputs": [],
   "source": [
    "test_descriptions = test_descriptions[is_documented]"
   ]
  },
  {
   "cell_type": "code",
   "execution_count": 11,
   "id": "edbb3383-a6b0-4cbc-9ad1-4b4646d9267d",
   "metadata": {},
   "outputs": [
    {
     "name": "stdout",
     "output_type": "stream",
     "text": [
      "There is a total of 645 unique cells\n"
     ]
    }
   ],
   "source": [
    "print(f'There is a total of {len(test_descriptions[[\"Batch\", \"Cell Number\"]].value_counts())} unique cells')"
   ]
  },
  {
   "cell_type": "markdown",
   "id": "85e4e3e0-2008-435f-abab-b2164ca773f6",
   "metadata": {},
   "source": [
    "## Remove Formation Tests\n",
    "Get tests that do not have \"formation\" in the procedure"
   ]
  },
  {
   "cell_type": "code",
   "execution_count": 12,
   "id": "5be1ba5c-331a-492a-9197-a1207297e7cc",
   "metadata": {},
   "outputs": [],
   "source": [
    "is_formation = test_descriptions['Procedure'].str.lower().str.contains('formation')"
   ]
  },
  {
   "cell_type": "code",
   "execution_count": 13,
   "id": "a13dc911-c26f-4317-8995-fe1656fae274",
   "metadata": {},
   "outputs": [
    {
     "name": "stdout",
     "output_type": "stream",
     "text": [
      "Found 667/3544 formation experiments\n"
     ]
    }
   ],
   "source": [
    "print(f'Found {is_formation.sum()}/{len(is_formation)} formation experiments')"
   ]
  },
  {
   "cell_type": "code",
   "execution_count": 14,
   "id": "d3ce5407-abbe-443d-942b-2e0a8b46c249",
   "metadata": {},
   "outputs": [
    {
     "name": "stdout",
     "output_type": "stream",
     "text": [
      "There is a total of 602 unique cells\n"
     ]
    }
   ],
   "source": [
    "test_descriptions = test_descriptions[~is_formation]\n",
    "print(f'There is a total of {len(test_descriptions[[\"Batch\", \"Cell Number\"]].value_counts())} unique cells')"
   ]
  },
  {
   "cell_type": "markdown",
   "id": "d2d3428a-2d4c-4676-a9f5-be26b8f4e00d",
   "metadata": {},
   "source": [
    "## Create a Function to Document Cell\n",
    "Build a batdata-compliant metadata for a test given the information from the \"test descriptons\" and \"cell descriptions\" spreadsheets.\n",
    "This new format will contain the same information, but mapped to community-agreed-upon names for concepts"
   ]
  },
  {
   "cell_type": "markdown",
   "id": "c438140b-c927-4802-ba23-d2c41332f695",
   "metadata": {},
   "source": [
    "First get an example record"
   ]
  },
  {
   "cell_type": "code",
   "execution_count": 15,
   "id": "512f01bb-31ab-4ddd-9519-cdaed481a317",
   "metadata": {},
   "outputs": [
    {
     "data": {
      "text/plain": [
       "Unnamed: 0                                                                205\n",
       "File Name                                         ARGONNE_10_CFF-B12A-P1b.008\n",
       "Owner                                                                     CFF\n",
       "Batch                                                                    B12A\n",
       "Cell Number                                                                 1\n",
       "Cell Test                                                                 P1b\n",
       "Start Time                                                           10:51:04\n",
       "Initial Cycle Number                                                      0.0\n",
       "Last Cycle                                                               12.0\n",
       "Test Time                                                              50.202\n",
       "Max Capacity (Ah)                                                         0.0\n",
       "Max Energy                                                                0.0\n",
       "Max Current (A)                                                      0.000076\n",
       "Min Voltage                                                               0.0\n",
       "Max Voltage                                                              10.0\n",
       "Date of Test                                                  \\t09/20/2012\\t \n",
       "Path                        \\tB:\\Data\\MIMS\\Backup\\ARGONNE_10\\CFF-B12A-P1b....\n",
       "File Comments                                                                \n",
       "Procedure                    CFF-Rate-4p5V.000Rate Capability Test at 0.2C...\n",
       "Number of Cycles in file                                                 12.0\n",
       "Name: 205, dtype: object"
      ]
     },
     "execution_count": 15,
     "metadata": {},
     "output_type": "execute_result"
    }
   ],
   "source": [
    "record = test_descriptions.iloc[0]\n",
    "record"
   ]
  },
  {
   "cell_type": "markdown",
   "id": "324f9f1b-fa13-4c0b-97b6-812dd9e5437e",
   "metadata": {},
   "source": [
    "Look up the cell metadata"
   ]
  },
  {
   "cell_type": "code",
   "execution_count": 16,
   "id": "437a344a-1914-4357-8b9b-660c1ef64e91",
   "metadata": {},
   "outputs": [
    {
     "data": {
      "text/plain": [
       "build                             B12A\n",
       "anode                                C\n",
       "cathode                         HE5050\n",
       "cathode_full_name               HE5050\n",
       "cathode_supplier            Commercial\n",
       "anode_full_name               Graphite\n",
       "anode_supplier              Commercial\n",
       "electrolyte                      Gen 2\n",
       "electrolyte_additive              NONE\n",
       "total_cathode_area (cm2)         169.2\n",
       "number_layers                     13.0\n",
       "number_interfaces                 12.0\n",
       "target_capacity (Ah)               0.3\n",
       "anode_thickness (um)              86.0\n",
       "anode_loading (mg/cm2)            5.75\n",
       "anode_porosity                    35.0\n",
       "cathode_thickness (um)            63.0\n",
       "cathode_loading (mg/cm2)          14.3\n",
       "cathode_porosity                  38.0\n",
       "temperature (C)                   30.0\n",
       "Notes                              NaN\n",
       "Name: 21, dtype: object"
      ]
     },
     "execution_count": 16,
     "metadata": {},
     "output_type": "execute_result"
    }
   ],
   "source": [
    "cell_metadata = cell_descriptions.query(f'build == \"{record[\"Batch\"]}\"').iloc[0]\n",
    "cell_metadata"
   ]
  },
  {
   "cell_type": "markdown",
   "id": "b675e4a7-f964-4f97-abdc-1f03bbeea718",
   "metadata": {},
   "source": [
    "We just need to rearrange this data into the structure provided by `battdat`."
   ]
  },
  {
   "cell_type": "code",
   "execution_count": 17,
   "id": "89b6bc5d-0d8f-41ae-b43e-5a548b02aafd",
   "metadata": {},
   "outputs": [
    {
     "name": "stdout",
     "output_type": "stream",
     "text": [
      "{\n",
      "  \"name\": \"HE5050\",\n",
      "  \"supplier\": \"Commercial\",\n",
      "  \"product\": null,\n",
      "  \"thickness\": 63.0,\n",
      "  \"area\": 169.2,\n",
      "  \"loading\": 14.3,\n",
      "  \"porosity\": 38.0\n",
      "}\n"
     ]
    }
   ],
   "source": [
    "cathode_metadata = ElectrodeDescription(\n",
    "    name=cell_metadata['cathode'],\n",
    "    supplier=cell_metadata['cathode_supplier'],\n",
    "    thickness=cell_metadata['cathode_thickness (um)'],\n",
    "    area=cell_metadata['total_cathode_area (cm2)'],\n",
    "    loading=cell_metadata['cathode_loading (mg/cm2)'],\n",
    "    porosity=cell_metadata['cathode_porosity']\n",
    ")\n",
    "print(cathode_metadata.model_dump_json(indent=2))"
   ]
  },
  {
   "cell_type": "markdown",
   "id": "794f04ba-e0bf-4975-bd76-e59ab2093242",
   "metadata": {},
   "source": [
    "We put all of this into a single function for convenience"
   ]
  },
  {
   "cell_type": "code",
   "execution_count": 18,
   "id": "c3791f19-c058-46c2-b66f-7aa2d491daae",
   "metadata": {},
   "outputs": [
    {
     "data": {
      "text/plain": [
       "{'layer_count': 13,\n",
       " 'anode': {'name': 'C',\n",
       "  'supplier': 'Commercial',\n",
       "  'product': 'Graphite',\n",
       "  'thickness': 86.0,\n",
       "  'loading': 5.75,\n",
       "  'porosity': 35.0},\n",
       " 'cathode': {'name': 'HE5050',\n",
       "  'supplier': 'Commercial',\n",
       "  'thickness': 63.0,\n",
       "  'area': 169.2,\n",
       "  'loading': 14.3,\n",
       "  'porosity': 38.0},\n",
       " 'electrolyte': {'name': 'Gen 2', 'additives': []},\n",
       " 'nominal_capacity': 0.3}"
      ]
     },
     "execution_count": 18,
     "metadata": {},
     "output_type": "execute_result"
    }
   ],
   "source": [
    "def describe_cell(test_record: dict) -> BatteryMetadata:\n",
    "    \"\"\"Create a single metadata record\n",
    "    \n",
    "    Args:\n",
    "        test_record: Record for a certain test\n",
    "    Returns:\n",
    "        Formatted metadata for the battery\n",
    "    \"\"\"\n",
    "    \n",
    "    # Match cell description\n",
    "    matches = cell_descriptions.query(f'build == \"{test_record[\"Batch\"]}\"')\n",
    "    if len(matches) > 1: \n",
    "        print(f'WARNING: Found {len(matches)} descriptions for build=\"{test_record[\"Batch\"]}\". Picking the first')\n",
    "    cell_metadata = matches.iloc[0].to_dict()\n",
    "    \n",
    "    # Replace NaNs with None so that we know they are missing\n",
    "    cell_metadata = dict((k, None if isinstance(v, float) and np.isnan(v) else v) for k, v in cell_metadata.items())\n",
    "\n",
    "    # Describe the electrodes\n",
    "    cathode_metadata = None\n",
    "    anode_metadata = None\n",
    "    if cell_metadata['cathode'] != \"unknown\":\n",
    "        cathode_metadata = ElectrodeDescription(\n",
    "            name=cell_metadata['cathode'],\n",
    "            supplier=cell_metadata['cathode_supplier'],\n",
    "            thickness=cell_metadata['cathode_thickness (um)'],\n",
    "            area=cell_metadata['total_cathode_area (cm2)'],\n",
    "            loading=cell_metadata['cathode_loading (mg/cm2)'],\n",
    "            porosity=cell_metadata['cathode_porosity']\n",
    "        )\n",
    "    if cell_metadata['anode'] != \"unknown\":\n",
    "        anode_metadata = ElectrodeDescription(\n",
    "            name=cell_metadata['anode'],\n",
    "            supplier=cell_metadata['anode_supplier'],\n",
    "            product=cell_metadata['anode_full_name'],\n",
    "            thickness=cell_metadata['anode_thickness (um)'],\n",
    "            loading=cell_metadata['anode_loading (mg/cm2)'],\n",
    "            porosity=cell_metadata['anode_porosity']\n",
    "        )\n",
    "\n",
    "    # Get the electrolyte information\n",
    "    additives = cell_metadata['electrolyte_additive']\n",
    "    additives = [] if additives == 'NONE' else [{'name': x.strip()} for x in additives.split(\",\")]\n",
    "    electrolyte = ElectrolyteDescription(\n",
    "        name=cell_metadata['electrolyte'],\n",
    "        additives=additives\n",
    "    )\n",
    "    \n",
    "    # Combine to form a cell description\n",
    "    battery = BatteryDescription(\n",
    "        anode=anode_metadata,\n",
    "        cathode=cathode_metadata,\n",
    "        electrolyte=electrolyte,\n",
    "    )\n",
    "    if cell_metadata['target_capacity (Ah)'] != \"unknown\":\n",
    "        battery.nominal_capacity = cell_metadata['target_capacity (Ah)']\n",
    "    if cell_metadata['number_layers'] != \"unknown\":\n",
    "        value = cell_metadata['number_layers']\n",
    "        battery.layer_count = int(value) if value is not None else value\n",
    "    return battery\n",
    "describe_cell(record).dict(exclude_unset=True)"
   ]
  },
  {
   "cell_type": "markdown",
   "id": "a00fc597-4187-443e-9629-6cbabb54519b",
   "metadata": {},
   "source": [
    "## Load in an Example Test\n",
    "Tests are stored in MACCOR format. Let's load one in to see how the data looks.\n"
   ]
  },
  {
   "cell_type": "code",
   "execution_count": 19,
   "id": "f6a4c1c3-ee46-435f-929f-dcaadd941759",
   "metadata": {},
   "outputs": [],
   "source": [
    "reader = MACCORReader(ignore_time=True)  # The datetime column is a problem in a few files"
   ]
  },
  {
   "cell_type": "code",
   "execution_count": 20,
   "id": "146a2fb6-81ba-4db9-8958-1d3fcb9eabfc",
   "metadata": {},
   "outputs": [
    {
     "data": {
      "text/html": [
       "<div>\n",
       "<style scoped>\n",
       "    .dataframe tbody tr th:only-of-type {\n",
       "        vertical-align: middle;\n",
       "    }\n",
       "\n",
       "    .dataframe tbody tr th {\n",
       "        vertical-align: top;\n",
       "    }\n",
       "\n",
       "    .dataframe thead th {\n",
       "        text-align: right;\n",
       "    }\n",
       "</style>\n",
       "<table border=\"1\" class=\"dataframe\">\n",
       "  <thead>\n",
       "    <tr style=\"text-align: right;\">\n",
       "      <th></th>\n",
       "      <th>cycle_number</th>\n",
       "      <th>file_number</th>\n",
       "      <th>test_time</th>\n",
       "      <th>state</th>\n",
       "      <th>current</th>\n",
       "      <th>voltage</th>\n",
       "      <th>step_index</th>\n",
       "      <th>method</th>\n",
       "      <th>substep_index</th>\n",
       "    </tr>\n",
       "  </thead>\n",
       "  <tbody>\n",
       "    <tr>\n",
       "      <th>0</th>\n",
       "      <td>0</td>\n",
       "      <td>0</td>\n",
       "      <td>0.000</td>\n",
       "      <td>ChargingState.unknown</td>\n",
       "      <td>0.0</td>\n",
       "      <td>0.073548</td>\n",
       "      <td>0</td>\n",
       "      <td>ControlMethod.constant_current</td>\n",
       "      <td>0</td>\n",
       "    </tr>\n",
       "    <tr>\n",
       "      <th>1</th>\n",
       "      <td>0</td>\n",
       "      <td>0</td>\n",
       "      <td>0.162</td>\n",
       "      <td>ChargingState.unknown</td>\n",
       "      <td>0.0</td>\n",
       "      <td>0.000000</td>\n",
       "      <td>0</td>\n",
       "      <td>ControlMethod.constant_current</td>\n",
       "      <td>0</td>\n",
       "    </tr>\n",
       "  </tbody>\n",
       "</table>\n",
       "</div>"
      ],
      "text/plain": [
       "   cycle_number  file_number  test_time                  state  current  \\\n",
       "0             0            0      0.000  ChargingState.unknown      0.0   \n",
       "1             0            0      0.162  ChargingState.unknown      0.0   \n",
       "\n",
       "    voltage  step_index                          method  substep_index  \n",
       "0  0.073548           0  ControlMethod.constant_current              0  \n",
       "1  0.000000           0  ControlMethod.constant_current              0  "
      ]
     },
     "execution_count": 20,
     "metadata": {},
     "output_type": "execute_result"
    }
   ],
   "source": [
    "data = reader.read_file(data_path / record['File Name'])\n",
    "data.head(2)"
   ]
  },
  {
   "cell_type": "markdown",
   "id": "9d2966ef-ce9b-420f-86d0-320de8295ac2",
   "metadata": {},
   "source": [
    "## Process all known cells\n",
    "Loop through everything and save it into HDF5 format"
   ]
  },
  {
   "cell_type": "code",
   "execution_count": 21,
   "id": "55d5cd2c-2d4a-41e2-a138-6da9bcc3bdf0",
   "metadata": {},
   "outputs": [],
   "source": [
    "for path in h5_path.iterdir():\n",
    "    if path.is_dir():\n",
    "        rmtree(path)"
   ]
  },
  {
   "cell_type": "markdown",
   "id": "28af2ecc-209b-4ba6-b776-e1b4adb09a0b",
   "metadata": {},
   "source": [
    "Make a function we can run in parallel"
   ]
  },
  {
   "cell_type": "code",
   "execution_count": 22,
   "id": "694c67c7-9576-4408-8128-684689e71605",
   "metadata": {},
   "outputs": [],
   "source": [
    "def process_cell(extractor: MACCORReader, files: list[str], metadata: BatteryMetadata, path: str):\n",
    "    \"\"\"Convert then save to HDF5 format\"\"\"\n",
    "    \n",
    "    data = extractor.read_dataset(files, metadata=metadata)\n",
    "    for col in data.raw_data.columns:\n",
    "        if data.raw_data[col].dtype == np.float64:\n",
    "            data.raw_data[col] = data.raw_data[col].astype(np.float32)\n",
    "    data.validate()\n",
    "    data.to_hdf(path, complevel=9)"
   ]
  },
  {
   "cell_type": "markdown",
   "id": "befdcbd2-f624-48ad-b33f-c24ee588356a",
   "metadata": {},
   "source": [
    "Parse the test date"
   ]
  },
  {
   "cell_type": "code",
   "execution_count": 23,
   "id": "37a44ad7-e810-40ba-bed1-6aaf3f56872a",
   "metadata": {},
   "outputs": [],
   "source": [
    "test_descriptions['start_date'] = test_descriptions['Date of Test'].apply(lambda x: datetime.strptime(x.strip(), '%m/%d/%Y'))"
   ]
  },
  {
   "cell_type": "markdown",
   "id": "f45c5d2e-d925-4dd4-bff5-ff117880cad7",
   "metadata": {},
   "source": [
    "Run for all cells"
   ]
  },
  {
   "cell_type": "code",
   "execution_count": 24,
   "id": "4fdfdbc8-6be0-49e6-b774-f588c422840b",
   "metadata": {},
   "outputs": [
    {
     "data": {
      "application/vnd.jupyter.widget-view+json": {
       "model_id": "5e7a79ae04d44b8585dcddc99eeea92f",
       "version_major": 2,
       "version_minor": 0
      },
      "text/plain": [
       "  0%|          | 0/602 [00:00<?, ?it/s]"
      ]
     },
     "metadata": {},
     "output_type": "display_data"
    },
    {
     "name": "stdout",
     "output_type": "stream",
     "text": [
      "WARNING: Found 3 descriptions for build=\"B35G\". Picking the first\n",
      "WARNING: Found 3 descriptions for build=\"B35G\". Picking the first\n",
      "Succeeded in parsing 602 cells\n"
     ]
    }
   ],
   "source": [
    "refined = 0\n",
    "futures = []\n",
    "failures = []\n",
    "known_cells['matched'] = False\n",
    "success_count = 0\n",
    "for (batch_id, cell_id), group in tqdm(test_descriptions.groupby(['Batch', 'Cell Number'])):\n",
    "    group = group.sort_values('start_date')\n",
    "    \n",
    "    # Get the metadata for the cell \n",
    "    cell_name = f'batch_{batch_id}_cell_{cell_id}'\n",
    "    cell_metadata = describe_cell(group.iloc[0])\n",
    "    \n",
    "    # Determine if this is in the \"refined\" set\n",
    "    known_matches = np.logical_and(known_cells.batch == batch_id, known_cells.cell_number == cell_id)\n",
    "    known_cells.loc[known_matches, 'matched'] = True\n",
    "    is_refined = known_matches.any()\n",
    "    if is_refined:\n",
    "        refined += 1\n",
    "\n",
    "    # Assemble the metadata for everything else\n",
    "    metadata = BatteryMetadata(\n",
    "        name=f'CAMP_{cell_name}',\n",
    "        battery=cell_metadata,\n",
    "        dataset_name='camp_2023',\n",
    "        authors=[\n",
    "            ['Logan', 'Ward'],\n",
    "            ['Joseph', 'Kubal'],\n",
    "            ['Susan J.', 'Babinec'],\n",
    "            ['Wenquan', 'Lu'],\n",
    "            ['Allison', 'Dunlop'],\n",
    "            ['Steve', 'Trask'],\n",
    "            ['Andrew', 'Jansen'],\n",
    "            ['Noah H.', 'Paulson'],\n",
    "        ],\n",
    "        associated_ids=['https://doi.org/10.1016/j.jpowsour.2022.231127']\n",
    "    )\n",
    "\n",
    "    # Get the test results\n",
    "    files = group['File Name'].apply(lambda x: data_path / x).tolist()\n",
    "\n",
    "    # Determine the path to save the file\n",
    "    name = f'{cell_name}.h5'\n",
    "    sub_dir = 'refined' if is_refined else 'other'\n",
    "    (h5_path / sub_dir).mkdir(exist_ok=True)\n",
    "    save_path = h5_path / sub_dir / name\n",
    "\n",
    "    # Submit to be processed: \n",
    "    try:\n",
    "        process_cell(reader, files, metadata, save_path)\n",
    "    except:\n",
    "        raise\n",
    "        record = group.iloc[0].to_dict()\n",
    "        record['reason'] = str(exc)\n",
    "        failures.append(record)\n",
    "    else:\n",
    "        success_count += 1\n",
    "failures = pd.DataFrame(failures)\n",
    "print(f'Succeeded in parsing {success_count} cells')"
   ]
  },
  {
   "cell_type": "markdown",
   "id": "f5958957-2e46-4a55-be3e-1e216694c79d",
   "metadata": {},
   "source": [
    "Save the failure information to disk"
   ]
  },
  {
   "cell_type": "code",
   "execution_count": 25,
   "id": "be458191-b47d-44f1-a66f-2ebc762383a0",
   "metadata": {},
   "outputs": [],
   "source": [
    "failures.to_csv('failures.csv', index=False)"
   ]
  },
  {
   "cell_type": "markdown",
   "id": "d8f695ef-6f31-4bfd-abda-12985c30b0f3",
   "metadata": {},
   "source": [
    "Make sure we found all cells from Noah's paper"
   ]
  },
  {
   "cell_type": "code",
   "execution_count": 26,
   "id": "4eb0e7ea-e733-45e8-bf99-154affdb61a8",
   "metadata": {},
   "outputs": [
    {
     "name": "stdout",
     "output_type": "stream",
     "text": [
      "Matched 300/300 known cells\n"
     ]
    }
   ],
   "source": [
    "n_matched = known_cells['matched'].sum()\n",
    "print(f'Matched {n_matched}/{len(known_cells)} known cells')"
   ]
  },
  {
   "cell_type": "markdown",
   "id": "4d435e00-7b06-45c2-8bde-19bdfad1e18f",
   "metadata": {},
   "source": [
    "Show off the metadata for one of the cells"
   ]
  },
  {
   "cell_type": "code",
   "execution_count": 27,
   "id": "b2ddd741-eea4-4d35-a30c-a7ae2f614dc0",
   "metadata": {},
   "outputs": [],
   "source": [
    "example_cell = './data/hdf5/refined/batch_B1A_cell_4.h5'"
   ]
  },
  {
   "cell_type": "code",
   "execution_count": 28,
   "id": "db14e3fc-a649-45f2-8f33-d6954cbb0e09",
   "metadata": {},
   "outputs": [],
   "source": [
    "data = BatteryDataset.from_hdf(str(example_cell))"
   ]
  },
  {
   "cell_type": "code",
   "execution_count": 29,
   "id": "42cc8330-bd3e-47ea-91d3-ebcdf371c02d",
   "metadata": {},
   "outputs": [
    {
     "name": "stdout",
     "output_type": "stream",
     "text": [
      "{\n",
      "  \"name\": \"CAMP_batch_B1A_cell_4\",\n",
      "  \"battery\": {\n",
      "    \"anode\": {\n",
      "      \"name\": \"C\",\n",
      "      \"supplier\": \"Commercial\",\n",
      "      \"product\": \"Graphite\",\n",
      "      \"thickness\": 86.0,\n",
      "      \"loading\": 5.75,\n",
      "      \"porosity\": 35.0\n",
      "    },\n",
      "    \"cathode\": {\n",
      "      \"name\": \"HE5050\",\n",
      "      \"supplier\": \"Commercial\",\n",
      "      \"thickness\": 68.0,\n",
      "      \"loading\": 14.5,\n",
      "      \"porosity\": 42.0\n",
      "    },\n",
      "    \"electrolyte\": {\n",
      "      \"name\": \"Gen 2\"\n",
      "    },\n",
      "    \"nominal_capacity\": 0.375\n",
      "  },\n",
      "  \"dataset_name\": \"camp_2023\",\n",
      "  \"authors\": [\n",
      "    [\n",
      "      \"Logan\",\n",
      "      \"Ward\"\n",
      "    ],\n",
      "    [\n",
      "      \"Joseph\",\n",
      "      \"Kubal\"\n",
      "    ],\n",
      "    [\n",
      "      \"Susan J.\",\n",
      "      \"Babinec\"\n",
      "    ],\n",
      "    [\n",
      "      \"Wenquan\",\n",
      "      \"Lu\"\n",
      "    ],\n",
      "    [\n",
      "      \"Allison\",\n",
      "      \"Dunlop\"\n",
      "    ],\n",
      "    [\n",
      "      \"Steve\",\n",
      "      \"Trask\"\n",
      "    ],\n",
      "    [\n",
      "      \"Andrew\",\n",
      "      \"Jansen\"\n",
      "    ],\n",
      "    [\n",
      "      \"Noah H.\",\n",
      "      \"Paulson\"\n",
      "    ]\n",
      "  ],\n",
      "  \"associated_ids\": [\n",
      "    \"https://doi.org/10.1016/j.jpowsour.2022.231127\"\n",
      "  ]\n",
      "}\n"
     ]
    }
   ],
   "source": [
    "print(data.metadata.model_dump_json(exclude_defaults=True, indent=2))"
   ]
  },
  {
   "cell_type": "code",
   "execution_count": null,
   "id": "d3475641-1e61-44a3-b391-873d589ffdcd",
   "metadata": {},
   "outputs": [],
   "source": []
  },
  {
   "cell_type": "code",
   "execution_count": null,
   "id": "04994b30-c735-45a1-ad4b-d1e0d1f644cd",
   "metadata": {},
   "outputs": [],
   "source": []
  }
 ],
 "metadata": {
  "kernelspec": {
   "display_name": "Python 3 (ipykernel)",
   "language": "python",
   "name": "python3"
  },
  "language_info": {
   "codemirror_mode": {
    "name": "ipython",
    "version": 3
   },
   "file_extension": ".py",
   "mimetype": "text/x-python",
   "name": "python",
   "nbconvert_exporter": "python",
   "pygments_lexer": "ipython3",
   "version": "3.11.10"
  }
 },
 "nbformat": 4,
 "nbformat_minor": 5
}
